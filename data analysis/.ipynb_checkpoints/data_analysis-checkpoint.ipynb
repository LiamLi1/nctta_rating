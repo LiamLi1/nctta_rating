{
 "cells": [
  {
   "cell_type": "code",
   "execution_count": null,
   "metadata": {},
   "outputs": [],
   "source": [
    "import seaborn as sns\n",
    "import matplotlib.pyplot as plt\n",
    "import plotly.offline as py\n",
    "import plotly.graph_objs as go\n",
    "import ggplot as gg\n",
    "import pandas as pd\n",
    "import numpy as np\n",
    "from sklearn.lda import LDA\n",
    "\n",
    "%matplotlib inline\n",
    "py.init_notebook_mode(connected=True)"
   ]
  },
  {
   "cell_type": "code",
   "execution_count": null,
   "metadata": {
    "collapsed": true
   },
   "outputs": [],
   "source": [
    "scores = pd.read_csv('scores_3.csv', index_col=0)\n",
    "scores.index = list(range(len(scores)))\n",
    "ratings = pd.read_csv(\"C:\\\\Users\\\\ll299\\\\Documents\\\\python_nctta_rating\\\\current_rating.csv\", index_col=0)\n",
    "ratings['current_rating'] = ratings['current_rating'].apply(lambda x: int(x.replace('[','').replace(']','')))\n",
    "ratings['player_id'] = ratings['player_id'].apply(lambda x: int(x.replace('[','').replace(']','')))"
   ]
  },
  {
   "cell_type": "code",
   "execution_count": null,
   "metadata": {
    "collapsed": true
   },
   "outputs": [],
   "source": [
    "#apply PauTu method to drop the outliers. \n",
    "import functools\n",
    "def pautu(score,wlratio_mean, wlratio_std):\n",
    "    mean = wlratio_mean[score['Ll']-1,score['Wl']-1]\n",
    "    std = wlratio_std[score['Ll']-1, score['Wl']-1]\n",
    "    return (mean-2.58*std<score['win_ratio']<mean+2.58*std)"
   ]
  },
  {
   "cell_type": "code",
   "execution_count": null,
   "metadata": {
    "collapsed": true
   },
   "outputs": [],
   "source": [
    "# calculate the mean and std of w_L ratio of different levels. \n",
    "wlratio_mean = np.zeros((10,10))\n",
    "wlratio_std = np.zeros((10,10))\n",
    "def wlratio(scores_e, wlratio_mean, wlratio_std):\n",
    "    for i in range(10):\n",
    "        for j in range(10):\n",
    "            wr = scores_e[(scores_e['Ll']==i+1) & (scores_e['Wl']==j+1)]['win_ratio']\n",
    "            lr = 1-scores_e[(scores_e['Ll']==j+1) & (scores_e['Wl']==i+1)]['win_ratio']\n",
    "            w_r_l=wr.append(lr)\n",
    "            wlratio_mean[i,j]=np.mean(w_r_l)\n",
    "            wlratio_std[i,j]=np.sqrt(np.var(w_r_l))\n",
    "wlratio(scores, wlratio_mean, wlratio_std)    "
   ]
  },
  {
   "cell_type": "code",
   "execution_count": null,
   "metadata": {
    "scrolled": true
   },
   "outputs": [],
   "source": [
    "sns.heatmap(wlratio_mean, annot=True)"
   ]
  },
  {
   "cell_type": "code",
   "execution_count": null,
   "metadata": {
    "collapsed": true
   },
   "outputs": [],
   "source": [
    "# np.save('wlratio_mean',wlratio_mean)"
   ]
  },
  {
   "cell_type": "code",
   "execution_count": null,
   "metadata": {
    "collapsed": true
   },
   "outputs": [],
   "source": [
    "scores_new = scores\n",
    "for i in range(2):\n",
    "    wlratio(scores_new, wlratio_mean, wlratio_std)  \n",
    "    pautu_new = functools.partial(pautu, wlratio_mean = wlratio_mean, wlratio_std = wlratio_std)\n",
    "    drop_list_temp = scores_new.apply(pautu_new, axis=1)\n",
    "    scores_new = scores_new[drop_list_temp]"
   ]
  },
  {
   "cell_type": "code",
   "execution_count": null,
   "metadata": {
    "collapsed": true
   },
   "outputs": [],
   "source": [
    "outliers_index = np.setdiff1d(np.array(scores.index),np.array(scores_new.index))"
   ]
  },
  {
   "cell_type": "code",
   "execution_count": null,
   "metadata": {},
   "outputs": [],
   "source": [
    "scores.loc[outliers_index]"
   ]
  },
  {
   "cell_type": "markdown",
   "metadata": {},
   "source": [
    "## Get w/l ratio for players"
   ]
  },
  {
   "cell_type": "code",
   "execution_count": null,
   "metadata": {
    "collapsed": true
   },
   "outputs": [],
   "source": [
    "def level(rating):\n",
    "    level_range = [0,500,1000,1300,1600,1800,2000,2200,2400,2550,2800]\n",
    "    for i in range(10):\n",
    "        if level_range[i]<=rating<level_range[i+1]:\n",
    "            return i+1"
   ]
  },
  {
   "cell_type": "code",
   "execution_count": null,
   "metadata": {
    "collapsed": true
   },
   "outputs": [],
   "source": [
    "def get_info(w):\n",
    "    dict_list = []\n",
    "    for i in w.index.levels[0]:\n",
    "        d = w.loc[i].to_dict()\n",
    "        d['id'] = i\n",
    "        dict_list.append(d)\n",
    "    return pd.DataFrame.from_records(dict_list, index='id')"
   ]
  },
  {
   "cell_type": "code",
   "execution_count": null,
   "metadata": {
    "collapsed": true
   },
   "outputs": [],
   "source": [
    "ratings.set_index('player_id', inplace=True)"
   ]
  },
  {
   "cell_type": "code",
   "execution_count": null,
   "metadata": {
    "collapsed": true
   },
   "outputs": [],
   "source": [
    "def get_players_history_info(scores_new, ratings):\n",
    "    l=pd.Series(1-scores_new.groupby(['Loser_id','Wl']).mean().win_ratio)\n",
    "    lc = scores_new.groupby(['Loser_id','Wl']).count().win_ratio\n",
    "    w = pd.Series(scores_new.groupby(['Winner_id','Ll']).mean().win_ratio)\n",
    "    wc = scores_new.groupby(['Winner_id','Ll']).count().win_ratio\n",
    "    df_l = get_info(l*lc)\n",
    "    df_w = get_info(w*wc)\n",
    "    df_lc = get_info(lc)\n",
    "    df_wc = get_info(wc)\n",
    "\n",
    "    dfm_l = ratings.merge(right = df_l, how='left', left_index=True, right_index=True, copy=True)\n",
    "    dfm_l.fillna(0, inplace = True)\n",
    "    dfm_lc = ratings.merge(right = df_lc, how='left', left_index=True, right_index=True, copy=True)\n",
    "    dfm_lc.fillna(0, inplace = True)\n",
    "    dfm_w = ratings.merge(right = df_w, how='left', left_index=True, right_index=True, copy=True)\n",
    "    dfm_w.fillna(0, inplace = True)\n",
    "    dfm_wc = ratings.merge(right = df_wc, how='left', left_index=True, right_index=True, copy=True)\n",
    "    dfm_wc.fillna(0, inplace = True)\n",
    "\n",
    "    players_history = (dfm_l+dfm_w)/(dfm_wc+dfm_lc)\n",
    "    players_history.fillna(0,inplace=True)\n",
    "\n",
    "    players_history['current_rating']= ratings\n",
    "\n",
    "    players_history = players_history[[1,2,3,4,5,6,7,8,9,10,'current_rating']]\n",
    "\n",
    "    players_history['level']=players_history['current_rating'].apply(level)\n",
    "    return players_history"
   ]
  },
  {
   "cell_type": "code",
   "execution_count": null,
   "metadata": {
    "scrolled": true
   },
   "outputs": [],
   "source": [
    "players_history = get_players_history_info(scores_new, ratings)"
   ]
  },
  {
   "cell_type": "code",
   "execution_count": 15,
   "metadata": {
    "scrolled": true
   },
   "outputs": [
    {
     "name": "stderr",
     "output_type": "stream",
     "text": [
      "C:\\ProgramData\\Anaconda3\\lib\\site-packages\\pandas\\core\\generic.py:4814: RuntimeWarning:\n",
      "\n",
      "'<' not supported between instances of 'numpy.ndarray' and 'str', sort order is undefined for incomparable objects\n",
      "\n"
     ]
    }
   ],
   "source": [
    "players_history_for_outlier = get_players_history_info(scores, ratings)"
   ]
  },
  {
   "cell_type": "code",
   "execution_count": 16,
   "metadata": {
    "collapsed": true,
    "scrolled": true
   },
   "outputs": [],
   "source": [
    "# get labels\n",
    "labels = []\n",
    "for i in range(10):\n",
    "    labels.append(players_history[i+1]!=0)\n",
    "labels = np.array(labels)    "
   ]
  },
  {
   "cell_type": "code",
   "execution_count": 17,
   "metadata": {
    "collapsed": true
   },
   "outputs": [],
   "source": [
    "def labels_gene(*p):\n",
    "    s = np.ones(len(labels[1,:]))\n",
    "    q = np.array(p)-1\n",
    "    for i in labels[q,:]:\n",
    "        s *=i\n",
    "    return s.astype(bool)"
   ]
  },
  {
   "cell_type": "code",
   "execution_count": 18,
   "metadata": {
    "collapsed": true
   },
   "outputs": [],
   "source": [
    "def labels_player(player):\n",
    "    labels = [] \n",
    "    for i in range(1,11):\n",
    "        if player.loc[i] != 0:\n",
    "            labels.append(i)\n",
    "    return labels"
   ]
  },
  {
   "cell_type": "code",
   "execution_count": 19,
   "metadata": {
    "collapsed": true,
    "scrolled": true
   },
   "outputs": [],
   "source": [
    "def normal_lda(line, players_history):\n",
    "    # What levels have data for the player\n",
    "    p = labels_player(line)\n",
    "    if p == []:\n",
    "        return {'num_records':0, 'lda_score':0, 'level_revaluated':0}\n",
    "    # select 'similar' players from the data frame\n",
    "    indexs = labels_gene(*p)\n",
    "    num_records = sum(indexs)\n",
    "    X = players_history.loc[indexs,p]\n",
    "    Y = players_history.loc[indexs]['level']\n",
    "    clf1 = LDA(solver='lsqr', shrinkage='auto').fit(X, Y)\n",
    "    lda_score = clf1.score(X,Y)\n",
    "    level_revaluated = clf1.predict(line.loc[p])[0]\n",
    "    return{'num_records':num_records, 'lda_score':lda_score, 'level_revaluated':level_revaluated}"
   ]
  },
  {
   "cell_type": "code",
   "execution_count": 22,
   "metadata": {
    "collapsed": true
   },
   "outputs": [],
   "source": [
    "import warnings\n",
    "warnings.simplefilter('ignore')\n",
    "dict_lda = players_history.apply(normal_lda, axis=1, args = [players_history])"
   ]
  },
  {
   "cell_type": "code",
   "execution_count": 23,
   "metadata": {
    "collapsed": true
   },
   "outputs": [],
   "source": [
    "df_nlda = pd.DataFrame.from_records(dict_lda.values)"
   ]
  },
  {
   "cell_type": "code",
   "execution_count": 24,
   "metadata": {
    "collapsed": true
   },
   "outputs": [],
   "source": [
    "players_history['index'] = list(range(len(players_history)))"
   ]
  },
  {
   "cell_type": "code",
   "execution_count": 25,
   "metadata": {
    "collapsed": true
   },
   "outputs": [],
   "source": [
    "df_nlda_o = players_history.merge(df_nlda, how='inner', left_on='index', right_index=True)"
   ]
  },
  {
   "cell_type": "code",
   "execution_count": 26,
   "metadata": {
    "collapsed": true
   },
   "outputs": [],
   "source": [
    "del df_nlda_o['index']"
   ]
  },
  {
   "cell_type": "code",
   "execution_count": 27,
   "metadata": {
    "collapsed": true
   },
   "outputs": [],
   "source": [
    "df_nlda_o['level_change'] = np.abs(df_nlda_o['level']-df_nlda_o['level_revaluated'])"
   ]
  },
  {
   "cell_type": "code",
   "execution_count": 28,
   "metadata": {
    "collapsed": true
   },
   "outputs": [],
   "source": [
    "df_nlda_o.to_csv('nlda.csv')"
   ]
  },
  {
   "cell_type": "code",
   "execution_count": 29,
   "metadata": {
    "collapsed": true
   },
   "outputs": [],
   "source": [
    "e = df_nlda_o[df_nlda_o['level_change']>=2].index"
   ]
  },
  {
   "cell_type": "code",
   "execution_count": 30,
   "metadata": {},
   "outputs": [
    {
     "data": {
      "text/plain": [
       "[]"
      ]
     },
     "execution_count": 30,
     "metadata": {},
     "output_type": "execute_result"
    }
   ],
   "source": [
    "labels_player(df_nlda_o.loc[e[1]])"
   ]
  },
  {
   "cell_type": "code",
   "execution_count": 31,
   "metadata": {
    "collapsed": true
   },
   "outputs": [],
   "source": [
    "# visualization copy\n",
    "def plot_average_players(levels, player_id, players_history):\n",
    "    traces=[]\n",
    "# add player's win_ratio line\n",
    "    if player_id != 0:\n",
    "        player = players_history.loc[player_id]\n",
    "        levels = list(np.array(player[['level', 'level_revaluated']],dtype=int))\n",
    "        if player['level_revaluated'] == 0:\n",
    "            levels[1]=levels[0]\n",
    "        columns = labels_player(player)\n",
    "        trace_p = go.Scatter(\n",
    "            x= columns,\n",
    "            y= player.loc[columns],\n",
    "            mode = 'lines+markers',\n",
    "            line = dict(\n",
    "                color = 'rgb(22, 96, 167)',\n",
    "                width = 4),\n",
    "            name = 'player '+str(player_id)\n",
    "        )\n",
    "        traces.append(trace_p)\n",
    "# highlight selected levels or players levels        \n",
    "    if levels != [0]:\n",
    "        gray = 'rgba(204,204,204,1)'\n",
    "        red = 'rgba(222,45,38,0.8)'\n",
    "        for i in range(1,11):\n",
    "            color = gray\n",
    "            str_name = 'level '+str(i)\n",
    "            if i in levels:\n",
    "                color = red\n",
    "                if player_id != 0 and i == levels[1]:\n",
    "                    str_name = 'level ' + str(i) + ' revaluated'\n",
    "                if player_id != 0 and i == levels[0]:\n",
    "                    str_name = 'level ' + str(i) + ' original'\n",
    "\n",
    "            trace = go.Scatter(\n",
    "                x = list(range(1,11)),\n",
    "                y = wlratio_mean[:,i-1],\n",
    "                mode = 'lines+markers',\n",
    "                line = dict(\n",
    "                    color = color,\n",
    "                    width = 4),\n",
    "                name = str_name\n",
    "            )\n",
    "            traces.append(trace)\n",
    "        for i in levels:\n",
    "            trace = go.Scatter(\n",
    "                x=[i],\n",
    "                y=[wlratio_mean[i-1,i-1]],\n",
    "                mode = 'markers',\n",
    "                marker = dict(\n",
    "                    color = red,\n",
    "                    size = 20),\n",
    "                showlegend=False,\n",
    "                name = 'level'+str(i)\n",
    "            )\n",
    "            traces.append(trace)\n",
    "    else:\n",
    "        for i in range(1,11):\n",
    "            trace = go.Scatter(\n",
    "                x = list(range(1,11)),\n",
    "                y = wlratio_mean[:,i-1],\n",
    "                mode = 'lines+markers',\n",
    "                line = dict(\n",
    "                    width = 4),\n",
    "                name = 'level'+str(i))\n",
    "            traces.append(trace)\n",
    "    layout = go.Layout(\n",
    "        xaxis = dict(\n",
    "            title = 'Competator\\'s Level'\n",
    "        ),\n",
    "        yaxis = dict(\n",
    "            title = 'Win Raito' \n",
    "        ),\n",
    "        title = \"Average Win Ratio for Players in All Levels\",\n",
    "        bargap = 0,\n",
    "        bargroupgap = 0.1\n",
    "    )        \n",
    "    data = traces\n",
    "    \n",
    "    fig = go.Figure(data = data, layout = layout)\n",
    "    py.iplot(fig)                   "
   ]
  },
  {
   "cell_type": "code",
   "execution_count": 54,
   "metadata": {},
   "outputs": [
    {
     "data": {
      "text/plain": [
       "1                      0.000000\n",
       "2                      0.767442\n",
       "3                      0.000000\n",
       "4                      0.000000\n",
       "5                      0.000000\n",
       "6                      0.000000\n",
       "7                      0.000000\n",
       "8                      0.000000\n",
       "9                      0.000000\n",
       "10                     0.000000\n",
       "current_rating      1157.000000\n",
       "level                  3.000000\n",
       "lda_score              0.457071\n",
       "level_revaluated       4.000000\n",
       "num_records         7955.000000\n",
       "level_change           1.000000\n",
       "Name: 3016, dtype: float64"
      ]
     },
     "execution_count": 54,
     "metadata": {},
     "output_type": "execute_result"
    }
   ],
   "source": [
    "df_nlda_o.loc[3016]"
   ]
  },
  {
   "cell_type": "code",
   "execution_count": 32,
   "metadata": {
    "scrolled": true
   },
   "outputs": [
    {
     "data": {
      "text/plain": [
       "1                      0.000000\n",
       "2                      0.000000\n",
       "3                      0.000000\n",
       "4                      0.480000\n",
       "5                      0.557143\n",
       "6                      0.000000\n",
       "7                      0.000000\n",
       "8                      0.000000\n",
       "9                      0.000000\n",
       "10                     0.000000\n",
       "current_rating      1811.000000\n",
       "level                  6.000000\n",
       "lda_score              0.531694\n",
       "level_revaluated       4.000000\n",
       "num_records         3660.000000\n",
       "level_change           2.000000\n",
       "Name: 1135, dtype: float64"
      ]
     },
     "execution_count": 32,
     "metadata": {},
     "output_type": "execute_result"
    }
   ],
   "source": [
    "df_nlda_o.loc[e[30]]"
   ]
  },
  {
   "cell_type": "code",
   "execution_count": 58,
   "metadata": {},
   "outputs": [
    {
     "data": {
      "application/vnd.plotly.v1+json": {
       "data": [
        {
         "line": {
          "width": 4
         },
         "mode": "lines+markers",
         "name": "level1",
         "type": "scatter",
         "x": [
          1,
          2,
          3,
          4,
          5,
          6,
          7,
          8,
          9,
          10
         ],
         "y": [
          0.5000000000000008,
          0.3641988453727299,
          0.3209610693613277,
          0.3034783550235662,
          0.29645015773800154,
          0.2806516802074249,
          0.2572224041803276,
          0.2609094236153433,
          0.23938815099327074,
          0.2709298218308667
         ]
        },
        {
         "line": {
          "width": 4
         },
         "mode": "lines+markers",
         "name": "level2",
         "type": "scatter",
         "x": [
          1,
          2,
          3,
          4,
          5,
          6,
          7,
          8,
          9,
          10
         ],
         "y": [
          0.6358011546272723,
          0.500000000000003,
          0.3777141683896491,
          0.3400874065702222,
          0.32245866600658024,
          0.3102428313794525,
          0.2926791850841838,
          0.27611838188904275,
          0.24635509968876695,
          0.2848095367015314
         ]
        },
        {
         "line": {
          "width": 4
         },
         "mode": "lines+markers",
         "name": "level3",
         "type": "scatter",
         "x": [
          1,
          2,
          3,
          4,
          5,
          6,
          7,
          8,
          9,
          10
         ],
         "y": [
          0.6790389306386714,
          0.6222858316103503,
          0.5000000000000023,
          0.41073121323415035,
          0.374859876871836,
          0.3485674832146426,
          0.32316709773880953,
          0.29545542511780826,
          0.2703995021223463,
          0.276243358195517
         ]
        },
        {
         "line": {
          "width": 4
         },
         "mode": "lines+markers",
         "name": "level4",
         "type": "scatter",
         "x": [
          1,
          2,
          3,
          4,
          5,
          6,
          7,
          8,
          9,
          10
         ],
         "y": [
          0.6965216449764321,
          0.6599125934297789,
          0.5892687867658503,
          0.4999999999999984,
          0.42924943543204397,
          0.3912092775181597,
          0.35841942176796526,
          0.32702080319492244,
          0.30465195311100685,
          0.30543986551516006
         ]
        },
        {
         "line": {
          "width": 4
         },
         "mode": "lines+markers",
         "name": "level5",
         "type": "scatter",
         "x": [
          1,
          2,
          3,
          4,
          5,
          6,
          7,
          8,
          9,
          10
         ],
         "y": [
          0.7035498422619977,
          0.6775413339934228,
          0.6251401231281646,
          0.5707505645679581,
          0.5000000000000031,
          0.44160400668406063,
          0.39248910533770454,
          0.3553728620606168,
          0.32004798641602844,
          0.3301661463571918
         ]
        },
        {
         "line": {
          "width": 4
         },
         "mode": "lines+markers",
         "name": "level6",
         "type": "scatter",
         "x": [
          1,
          2,
          3,
          4,
          5,
          6,
          7,
          8,
          9,
          10
         ],
         "y": [
          0.7193483197925747,
          0.6897571686205484,
          0.6514325167853563,
          0.6087907224818423,
          0.5583959933159414,
          0.5000000000000014,
          0.43465801284595235,
          0.3799727992508806,
          0.3529053849963745,
          0.3370517037436462
         ]
        },
        {
         "line": {
          "width": 4
         },
         "mode": "lines+markers",
         "name": "level7",
         "type": "scatter",
         "x": [
          1,
          2,
          3,
          4,
          5,
          6,
          7,
          8,
          9,
          10
         ],
         "y": [
          0.7427775958196728,
          0.7073208149158156,
          0.6768329022611881,
          0.6415805782320323,
          0.6075108946622951,
          0.5653419871540487,
          0.5000000000000021,
          0.42209153059402693,
          0.3750789028816814,
          0.3602061878290552
         ]
        },
        {
         "line": {
          "width": 4
         },
         "mode": "lines+markers",
         "name": "level8",
         "type": "scatter",
         "x": [
          1,
          2,
          3,
          4,
          5,
          6,
          7,
          8,
          9,
          10
         ],
         "y": [
          0.739090576384657,
          0.7238816181109556,
          0.70454457488219,
          0.6729791968050762,
          0.6446271379393812,
          0.6200272007491188,
          0.5779084694059733,
          0.5000000000000002,
          0.4250092472705809,
          0.3863799929870636
         ]
        },
        {
         "line": {
          "width": 4
         },
         "mode": "lines+markers",
         "name": "level9",
         "type": "scatter",
         "x": [
          1,
          2,
          3,
          4,
          5,
          6,
          7,
          8,
          9,
          10
         ],
         "y": [
          0.7606118490067292,
          0.7536449003112334,
          0.7296004978776539,
          0.6953480468889925,
          0.6799520135839715,
          0.6470946150036248,
          0.6249210971183184,
          0.5749907527294191,
          0.5000000000000003,
          0.43286573915176124
         ]
        },
        {
         "line": {
          "width": 4
         },
         "mode": "lines+markers",
         "name": "level10",
         "type": "scatter",
         "x": [
          1,
          2,
          3,
          4,
          5,
          6,
          7,
          8,
          9,
          10
         ],
         "y": [
          0.7290701781691332,
          0.7151904632984688,
          0.723756641804483,
          0.6945601344848403,
          0.6698338536428082,
          0.6629482962563543,
          0.6397938121709444,
          0.6136200070129362,
          0.5671342608482387,
          0.4999999999999999
         ]
        }
       ],
       "layout": {
        "bargap": 0,
        "bargroupgap": 0.1,
        "title": "Average Win Ratio for Players in All Levels",
        "xaxis": {
         "title": "Competator's Level"
        },
        "yaxis": {
         "title": "Win Raito"
        }
       }
      },
      "text/html": [
       "<div id=\"fa527182-5643-47ff-9423-9be2eb450a8c\" style=\"height: 525px; width: 100%;\" class=\"plotly-graph-div\"></div><script type=\"text/javascript\">require([\"plotly\"], function(Plotly) { window.PLOTLYENV=window.PLOTLYENV || {};window.PLOTLYENV.BASE_URL=\"https://plot.ly\";Plotly.newPlot(\"fa527182-5643-47ff-9423-9be2eb450a8c\", [{\"type\": \"scatter\", \"x\": [1, 2, 3, 4, 5, 6, 7, 8, 9, 10], \"y\": [0.5000000000000008, 0.3641988453727299, 0.3209610693613277, 0.3034783550235662, 0.29645015773800154, 0.2806516802074249, 0.2572224041803276, 0.2609094236153433, 0.23938815099327074, 0.2709298218308667], \"mode\": \"lines+markers\", \"line\": {\"width\": 4}, \"name\": \"level1\"}, {\"type\": \"scatter\", \"x\": [1, 2, 3, 4, 5, 6, 7, 8, 9, 10], \"y\": [0.6358011546272723, 0.500000000000003, 0.3777141683896491, 0.3400874065702222, 0.32245866600658024, 0.3102428313794525, 0.2926791850841838, 0.27611838188904275, 0.24635509968876695, 0.2848095367015314], \"mode\": \"lines+markers\", \"line\": {\"width\": 4}, \"name\": \"level2\"}, {\"type\": \"scatter\", \"x\": [1, 2, 3, 4, 5, 6, 7, 8, 9, 10], \"y\": [0.6790389306386714, 0.6222858316103503, 0.5000000000000023, 0.41073121323415035, 0.374859876871836, 0.3485674832146426, 0.32316709773880953, 0.29545542511780826, 0.2703995021223463, 0.276243358195517], \"mode\": \"lines+markers\", \"line\": {\"width\": 4}, \"name\": \"level3\"}, {\"type\": \"scatter\", \"x\": [1, 2, 3, 4, 5, 6, 7, 8, 9, 10], \"y\": [0.6965216449764321, 0.6599125934297789, 0.5892687867658503, 0.4999999999999984, 0.42924943543204397, 0.3912092775181597, 0.35841942176796526, 0.32702080319492244, 0.30465195311100685, 0.30543986551516006], \"mode\": \"lines+markers\", \"line\": {\"width\": 4}, \"name\": \"level4\"}, {\"type\": \"scatter\", \"x\": [1, 2, 3, 4, 5, 6, 7, 8, 9, 10], \"y\": [0.7035498422619977, 0.6775413339934228, 0.6251401231281646, 0.5707505645679581, 0.5000000000000031, 0.44160400668406063, 0.39248910533770454, 0.3553728620606168, 0.32004798641602844, 0.3301661463571918], \"mode\": \"lines+markers\", \"line\": {\"width\": 4}, \"name\": \"level5\"}, {\"type\": \"scatter\", \"x\": [1, 2, 3, 4, 5, 6, 7, 8, 9, 10], \"y\": [0.7193483197925747, 0.6897571686205484, 0.6514325167853563, 0.6087907224818423, 0.5583959933159414, 0.5000000000000014, 0.43465801284595235, 0.3799727992508806, 0.3529053849963745, 0.3370517037436462], \"mode\": \"lines+markers\", \"line\": {\"width\": 4}, \"name\": \"level6\"}, {\"type\": \"scatter\", \"x\": [1, 2, 3, 4, 5, 6, 7, 8, 9, 10], \"y\": [0.7427775958196728, 0.7073208149158156, 0.6768329022611881, 0.6415805782320323, 0.6075108946622951, 0.5653419871540487, 0.5000000000000021, 0.42209153059402693, 0.3750789028816814, 0.3602061878290552], \"mode\": \"lines+markers\", \"line\": {\"width\": 4}, \"name\": \"level7\"}, {\"type\": \"scatter\", \"x\": [1, 2, 3, 4, 5, 6, 7, 8, 9, 10], \"y\": [0.739090576384657, 0.7238816181109556, 0.70454457488219, 0.6729791968050762, 0.6446271379393812, 0.6200272007491188, 0.5779084694059733, 0.5000000000000002, 0.4250092472705809, 0.3863799929870636], \"mode\": \"lines+markers\", \"line\": {\"width\": 4}, \"name\": \"level8\"}, {\"type\": \"scatter\", \"x\": [1, 2, 3, 4, 5, 6, 7, 8, 9, 10], \"y\": [0.7606118490067292, 0.7536449003112334, 0.7296004978776539, 0.6953480468889925, 0.6799520135839715, 0.6470946150036248, 0.6249210971183184, 0.5749907527294191, 0.5000000000000003, 0.43286573915176124], \"mode\": \"lines+markers\", \"line\": {\"width\": 4}, \"name\": \"level9\"}, {\"type\": \"scatter\", \"x\": [1, 2, 3, 4, 5, 6, 7, 8, 9, 10], \"y\": [0.7290701781691332, 0.7151904632984688, 0.723756641804483, 0.6945601344848403, 0.6698338536428082, 0.6629482962563543, 0.6397938121709444, 0.6136200070129362, 0.5671342608482387, 0.4999999999999999], \"mode\": \"lines+markers\", \"line\": {\"width\": 4}, \"name\": \"level10\"}], {\"xaxis\": {\"title\": \"Competator's Level\"}, \"yaxis\": {\"title\": \"Win Raito\"}, \"title\": \"Average Win Ratio for Players in All Levels\", \"bargap\": 0, \"bargroupgap\": 0.1}, {\"showLink\": true, \"linkText\": \"Export to plot.ly\"})});</script>"
      ],
      "text/vnd.plotly.v1+html": [
       "<div id=\"fa527182-5643-47ff-9423-9be2eb450a8c\" style=\"height: 525px; width: 100%;\" class=\"plotly-graph-div\"></div><script type=\"text/javascript\">require([\"plotly\"], function(Plotly) { window.PLOTLYENV=window.PLOTLYENV || {};window.PLOTLYENV.BASE_URL=\"https://plot.ly\";Plotly.newPlot(\"fa527182-5643-47ff-9423-9be2eb450a8c\", [{\"type\": \"scatter\", \"x\": [1, 2, 3, 4, 5, 6, 7, 8, 9, 10], \"y\": [0.5000000000000008, 0.3641988453727299, 0.3209610693613277, 0.3034783550235662, 0.29645015773800154, 0.2806516802074249, 0.2572224041803276, 0.2609094236153433, 0.23938815099327074, 0.2709298218308667], \"mode\": \"lines+markers\", \"line\": {\"width\": 4}, \"name\": \"level1\"}, {\"type\": \"scatter\", \"x\": [1, 2, 3, 4, 5, 6, 7, 8, 9, 10], \"y\": [0.6358011546272723, 0.500000000000003, 0.3777141683896491, 0.3400874065702222, 0.32245866600658024, 0.3102428313794525, 0.2926791850841838, 0.27611838188904275, 0.24635509968876695, 0.2848095367015314], \"mode\": \"lines+markers\", \"line\": {\"width\": 4}, \"name\": \"level2\"}, {\"type\": \"scatter\", \"x\": [1, 2, 3, 4, 5, 6, 7, 8, 9, 10], \"y\": [0.6790389306386714, 0.6222858316103503, 0.5000000000000023, 0.41073121323415035, 0.374859876871836, 0.3485674832146426, 0.32316709773880953, 0.29545542511780826, 0.2703995021223463, 0.276243358195517], \"mode\": \"lines+markers\", \"line\": {\"width\": 4}, \"name\": \"level3\"}, {\"type\": \"scatter\", \"x\": [1, 2, 3, 4, 5, 6, 7, 8, 9, 10], \"y\": [0.6965216449764321, 0.6599125934297789, 0.5892687867658503, 0.4999999999999984, 0.42924943543204397, 0.3912092775181597, 0.35841942176796526, 0.32702080319492244, 0.30465195311100685, 0.30543986551516006], \"mode\": \"lines+markers\", \"line\": {\"width\": 4}, \"name\": \"level4\"}, {\"type\": \"scatter\", \"x\": [1, 2, 3, 4, 5, 6, 7, 8, 9, 10], \"y\": [0.7035498422619977, 0.6775413339934228, 0.6251401231281646, 0.5707505645679581, 0.5000000000000031, 0.44160400668406063, 0.39248910533770454, 0.3553728620606168, 0.32004798641602844, 0.3301661463571918], \"mode\": \"lines+markers\", \"line\": {\"width\": 4}, \"name\": \"level5\"}, {\"type\": \"scatter\", \"x\": [1, 2, 3, 4, 5, 6, 7, 8, 9, 10], \"y\": [0.7193483197925747, 0.6897571686205484, 0.6514325167853563, 0.6087907224818423, 0.5583959933159414, 0.5000000000000014, 0.43465801284595235, 0.3799727992508806, 0.3529053849963745, 0.3370517037436462], \"mode\": \"lines+markers\", \"line\": {\"width\": 4}, \"name\": \"level6\"}, {\"type\": \"scatter\", \"x\": [1, 2, 3, 4, 5, 6, 7, 8, 9, 10], \"y\": [0.7427775958196728, 0.7073208149158156, 0.6768329022611881, 0.6415805782320323, 0.6075108946622951, 0.5653419871540487, 0.5000000000000021, 0.42209153059402693, 0.3750789028816814, 0.3602061878290552], \"mode\": \"lines+markers\", \"line\": {\"width\": 4}, \"name\": \"level7\"}, {\"type\": \"scatter\", \"x\": [1, 2, 3, 4, 5, 6, 7, 8, 9, 10], \"y\": [0.739090576384657, 0.7238816181109556, 0.70454457488219, 0.6729791968050762, 0.6446271379393812, 0.6200272007491188, 0.5779084694059733, 0.5000000000000002, 0.4250092472705809, 0.3863799929870636], \"mode\": \"lines+markers\", \"line\": {\"width\": 4}, \"name\": \"level8\"}, {\"type\": \"scatter\", \"x\": [1, 2, 3, 4, 5, 6, 7, 8, 9, 10], \"y\": [0.7606118490067292, 0.7536449003112334, 0.7296004978776539, 0.6953480468889925, 0.6799520135839715, 0.6470946150036248, 0.6249210971183184, 0.5749907527294191, 0.5000000000000003, 0.43286573915176124], \"mode\": \"lines+markers\", \"line\": {\"width\": 4}, \"name\": \"level9\"}, {\"type\": \"scatter\", \"x\": [1, 2, 3, 4, 5, 6, 7, 8, 9, 10], \"y\": [0.7290701781691332, 0.7151904632984688, 0.723756641804483, 0.6945601344848403, 0.6698338536428082, 0.6629482962563543, 0.6397938121709444, 0.6136200070129362, 0.5671342608482387, 0.4999999999999999], \"mode\": \"lines+markers\", \"line\": {\"width\": 4}, \"name\": \"level10\"}], {\"xaxis\": {\"title\": \"Competator's Level\"}, \"yaxis\": {\"title\": \"Win Raito\"}, \"title\": \"Average Win Ratio for Players in All Levels\", \"bargap\": 0, \"bargroupgap\": 0.1}, {\"showLink\": true, \"linkText\": \"Export to plot.ly\"})});</script>"
      ]
     },
     "metadata": {},
     "output_type": "display_data"
    }
   ],
   "source": [
    "plot_average_players([0],0, df_nlda_o)"
   ]
  }
 ],
 "metadata": {
  "kernelspec": {
   "display_name": "Python 3",
   "language": "python",
   "name": "python3"
  },
  "language_info": {
   "codemirror_mode": {
    "name": "ipython",
    "version": 3
   },
   "file_extension": ".py",
   "mimetype": "text/x-python",
   "name": "python",
   "nbconvert_exporter": "python",
   "pygments_lexer": "ipython3",
   "version": "3.6.1"
  }
 },
 "nbformat": 4,
 "nbformat_minor": 2
}
