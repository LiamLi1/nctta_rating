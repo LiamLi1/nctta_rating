{
 "cells": [
  {
   "cell_type": "code",
   "execution_count": 1,
   "metadata": {
    "collapsed": false
   },
   "outputs": [],
   "source": [
    "import pandas as pd\n",
    "import re\n",
    "import numpy as np\n",
    "from bs4 import BeautifulSoup\n",
    "import bs4\n",
    "import pymysql\n",
    "import requests\n",
    "from pandas import DataFrame,Series\n",
    "import datetime\n"
   ]
  },
  {
   "cell_type": "code",
   "execution_count": 2,
   "metadata": {
    "collapsed": false
   },
   "outputs": [],
   "source": [
    "class Craweling(object):\n",
    "    def __init__(self, url, idrange):\n",
    "        self.url = url\n",
    "        self.idrange = idrange\n",
    "        self.idlist = set([]) # record of players who has been read\n",
    "    \n",
    "    # get raw text from a website page\n",
    "    def getPage(self, i_d):\n",
    "        s_i_d = str(i_d)\n",
    "        r = requests.get(self.url + s_i_d)\n",
    "        if not r.ok:\n",
    "            print('connection error')\n",
    "        return r\n",
    "    \n",
    "    # clean the raw text, return a dataframe\n",
    "    def getPageItem(self, i_d):\n",
    "        temp = self.getPage(i_d)\n",
    "        #apply BeautifulSoup to generate a structured dataframe\n",
    "        soup = BeautifulSoup(temp.text, \"lxml\")\n",
    "        \n",
    "        #athlete\n",
    "        if not soup.find(name = 'h1'):\n",
    "            return False\n",
    "        athlete = soup.h1.string[11:]\n",
    "\n",
    "\n",
    "        #score\n",
    "        score_ = soup.find_all(text = re.compile(r'(-.+?,.+?-.+?)|(by default)'))\n",
    "        w1,w2,w3,w4,w5=[],[],[],[],[]\n",
    "        l1,l2,l3,l4,l5=[],[],[],[],[]\n",
    "        wlset = []\n",
    "        #split score to win/lose\n",
    "        \n",
    "        \n",
    "\n",
    "        for score in score_:\n",
    "            if not re.search(r'by default',score):\n",
    "                temp = score.strip().split(',')\n",
    "                w = [0]*5\n",
    "                l = [0]*5\n",
    "                count = 0\n",
    "                for smallscore in temp:\n",
    "                    splitscore = smallscore.strip().split('-')\n",
    "                    w[count] = int(splitscore[0])\n",
    "                    l[count] = int(splitscore[1])\n",
    "                    count += 1\n",
    "                wl = count\n",
    "                w1.append(w[0]),w2.append(w[1]),w3.append(w[2]),w4.append(w[3]),w5.append(w[4])\n",
    "                l1.append(l[0]),l2.append(l[1]),l3.append(l[2]),l4.append(l[3]),l5.append(l[4])\n",
    "                wlset.append(wl)\n",
    "            else:\n",
    "                w1.append(0),w2.append(0),w3.append(0),w4.append(0),w5.append(0)\n",
    "                l1.append(0),l2.append(0),l3.append(0),l4.append(0),l5.append(0)\n",
    "                wlset.append(-1)\n",
    "        d_score_error = ~(np.array(wlset)==-1) # delete score error\n",
    "\n",
    "\n",
    "        #types \n",
    "        type_ = soup.find_all(text = re.compile(r'(\\xa0\\n.+Single|Double)|(en\\'s.+Singles)'))\n",
    "        \n",
    "        \n",
    "        d_types = []\n",
    "        for t in np.array(type_):\n",
    "            if re.search(r'Singles',t):\n",
    "                d_types.append(True)  \n",
    "            else:\n",
    "                d_types.append(False)\n",
    "        d_type_error = np.array(d_types)\n",
    "        #d_type_error: a bool np.array. Singles value = True, doubles value = False. Drop doubles. \n",
    "       \n",
    "\n",
    "        #names and result\n",
    "        results_ = soup.find_all(text = re.compile(r'(def\\.)|(lost to)'))\n",
    "       \n",
    "\n",
    "        #results of each game\n",
    "        results = []\n",
    "\n",
    "        #winner and loser :a list of the first player for each game. It Still has doubles.                 \n",
    "        winner = []\n",
    "        loser = []\n",
    "        for t in results_:\n",
    "            result = t.strip()\n",
    "            results.append(result)\n",
    "            name = t.find_next(href = re.compile(r'Players'))['href'][15:]\n",
    "            if result == 'def.':\n",
    "                winner.append(i_d)\n",
    "                loser.append(name)\n",
    "            else:\n",
    "                winner.append(name)\n",
    "                loser.append(i_d)\n",
    "        win_n = np.array(winner,dtype = int)\n",
    "        loss_n = np.array(loser,dtype = int)\n",
    "        \n",
    "        \n",
    "\n",
    "        #dates\n",
    "        #meets\n",
    "        dates = []\n",
    "        meets = []\n",
    "        date_= soup.find_all(href = re.compile(r'MeetReport'))\n",
    "\n",
    "        for date in date_:\n",
    "            dates.append(datetime.datetime.strptime(date.string.strip(),\"%m/%d/%Y\"))\n",
    "            meet_ = date.find_next(text = re.compile(r'[a-zA-Z]')).strip()\n",
    "            meets.append(meet_)    \n",
    "           \n",
    "        date_n = np.array(dates,dtype=datetime.date)\n",
    "        \n",
    "        d_date_error = date_n > datetime.datetime.strptime(\"2001-10-01\",\"%Y-%m-%d\")\n",
    "        \n",
    "        data = {'Date':date_n, 'Meet':meets, \n",
    "                'Winner_id':win_n, \"Loser_id\":loss_n,\n",
    "                \"w1\":w1,\"w2\":w3,\"w3\":w3,\"w4\":w4,\"w5\":w5,\n",
    "                \"l1\":l1,\"l2\":l2,\"l3\":l3,\"l4\":l4,\"l5\":l5,\n",
    "                \"wl\":wlset}\n",
    "        \n",
    "        #repeated records\n",
    "        d_repeated = self.__repeated(win_n) & self.__repeated(loss_n)\n",
    "        \n",
    "        \n",
    "        #drop the error and repeated records\n",
    "        droperror = (d_type_error&d_score_error&d_date_error&d_repeated)\n",
    "        df = DataFrame(data)[droperror]\n",
    "#         df = DataFrame(data)\n",
    "        \n",
    "        # add this player in idlist\n",
    "        self.idlist.add(int(i_d))\n",
    "             \n",
    "        return df\n",
    "    \n",
    "    \n",
    "    def __repeated(self, ids):\n",
    "        d_id = []\n",
    "        for i in ids:\n",
    "            if i in self.idlist:\n",
    "                d_id.append(False)\n",
    "            else:\n",
    "                d_id.append(True)\n",
    "        return np.array(d_id)\n",
    "\n",
    "  \n",
    "    \n",
    "    \n",
    "    \n",
    "    \n",
    "class Craweling_athlete(object):\n",
    "    def __init__(self,url,idrange):\n",
    "        self.idrange=idrange\n",
    "        self.url=url\n",
    "        \n",
    "    def getPageItem(self, i_d):\n",
    "        player_data = pd.read_html(self.url+str(i_d), header = 0)\n",
    "        player_data[0]['player_id']=list([i_d]*len(player_data[0]))\n",
    "        if len(player_data[0])==0:\n",
    "            return False\n",
    "        return player_data[0]\n",
    "        \n",
    "class Craweling_current_rating(Craweling_athlete):\n",
    "    def getPageItem(self,i_d):\n",
    "        r = requests.get(self.url + str(i_d))\n",
    "        if not r.ok:\n",
    "            print('connection error')\n",
    "            return False\n",
    "        soup = BeautifulSoup(r.text, \"lxml\")\n",
    "        title = soup.find(text = re.compile(r'Current NCTTA Rating.+'))\n",
    "        rating = title.next_element.string.strip()\n",
    "#         print(rating)\n",
    "        if not re.match(r'[0-9]+', rating):\n",
    "            return False\n",
    "        rating = int(rating)\n",
    "        player_rating = pd.DataFrame({'player_id':[i_d], 'current_rating':[rating]})\n",
    "        return player_rating\n",
    "\n",
    "\n",
    "   \n",
    "\n"
   ]
  },
  {
   "cell_type": "code",
   "execution_count": 3,
   "metadata": {
    "collapsed": true
   },
   "outputs": [],
   "source": [
    "from sqlalchemy import create_engine\n",
    "\n",
    "\n",
    "class DatabaseConnect(object):\n",
    "    def __init__(self, username, password, host, dbname):\n",
    "        self.DB_CON_STR = 'mysql+pymysql://' + username +':'\\\n",
    "        + password +'@'+ host +'/' + dbname +'?charset=utf8'\n",
    "        self.engine = create_engine(self.DB_CON_STR, echo = False)\n",
    "        \n",
    "    def read(self, sql):\n",
    "        return pd.read_sql(sql, con=self.engine)\n",
    "    \n",
    "    def write(self, df, table):\n",
    "        if type(df) != bool:\n",
    "            df.to_sql(table, self.engine, if_exists = 'append')\n",
    "        \n",
    "    def write_crawler(self, crawler, table):\n",
    "        if len(crawler.idrange)==1:\n",
    "            id_list = range(1,crawler.idrange)\n",
    "        else:\n",
    "            id_list = crawler.idrange\n",
    "        for i in id_list:\n",
    "            if i%100 == 0:\n",
    "                print(i)\n",
    "            try:    \n",
    "                df = crawler.getPageItem(i)\n",
    "                self.write(df, table)\n",
    "            except Exception as e:\n",
    "                print('TypeErrror:', e)\n",
    "                print(i)\n",
    "            except ValueError as e:\n",
    "                print('ValueError:', e)\n",
    "                print(i)"
   ]
  },
  {
   "cell_type": "code",
   "execution_count": 4,
   "metadata": {
    "collapsed": true
   },
   "outputs": [],
   "source": [
    "#download score records to database\n",
    "\n",
    "username = 'root'\n",
    "password = 'bgzwosdfz0617..'\n",
    "host = 'localhost:3306'\n",
    "dbname = 'nctta_rating'\n",
    "\n",
    "url = \"http://danserver.com/nctta/IndivMatches.asp?id=\"\n",
    "crawlor = Craweling(url,13870)\n",
    "DBC = DatabaseConnect(username, password, host, dbname)    \n"
   ]
  },
  {
   "cell_type": "code",
   "execution_count": null,
   "metadata": {
    "collapsed": true
   },
   "outputs": [],
   "source": [
    "DBC.write_crawler(crawlor,'score_history')"
   ]
  },
  {
   "cell_type": "code",
   "execution_count": 5,
   "metadata": {
    "collapsed": false
   },
   "outputs": [],
   "source": [
    "result = DBC.read('Select * from score_history')\n",
    "player_id = np.unique(result['Loser_id'].append(result['Winner_id']))\n"
   ]
  },
  {
   "cell_type": "code",
   "execution_count": 6,
   "metadata": {
    "collapsed": false
   },
   "outputs": [],
   "source": [
    "url1 = \"http://danserver.com/nctta/PlayerRatingHistory.aspx?PlayerId=\"\n",
    "player_c = Craweling_athlete(url1, player_id)\n"
   ]
  },
  {
   "cell_type": "code",
   "execution_count": 7,
   "metadata": {
    "collapsed": true
   },
   "outputs": [],
   "source": [
    "url2 = \"http://danserver.com/nctta/Players.asp?id=\"\n",
    "player_r = Craweling_current_rating(url2, player_id)\n"
   ]
  },
  {
   "cell_type": "code",
   "execution_count": 62,
   "metadata": {
    "collapsed": true
   },
   "outputs": [],
   "source": [
    "from matplotlib import pyplot as plt\n",
    "import seaborn as sns\n",
    "%matplotlib inline"
   ]
  },
  {
   "cell_type": "code",
   "execution_count": 64,
   "metadata": {
    "collapsed": false
   },
   "outputs": [
    {
     "data": {
      "text/plain": [
       "<seaborn.axisgrid.JointGrid at 0x1fbeb4554e0>"
      ]
     },
     "execution_count": 64,
     "metadata": {},
     "output_type": "execute_result"
    },
    {
     "data": {
      "image/png": "[encoded data removed]",
      "text/plain": [
       "<matplotlib.figure.Figure at 0x1fbeb4558d0>"
      ]
     },
     "metadata": {},
     "output_type": "display_data"
    }
   ],
   "source": [
    "current_rating = DBC.read(\"Select * from current_rating\")\n",
    "sns.jointplot(x=current_rating['current_rating'], y=current_rating['player_id'])"
   ]
  }
 ],
 "metadata": {
  "kernelspec": {
   "display_name": "Python 3",
   "language": "python",
   "name": "python3"
  },
  "language_info": {
   "codemirror_mode": {
    "name": "ipython",
    "version": 3
   },
   "file_extension": ".py",
   "mimetype": "text/x-python",
   "name": "python",
   "nbconvert_exporter": "python",
   "pygments_lexer": "ipython3",
   "version": "3.6.0"
  }
 },
 "nbformat": 4,
 "nbformat_minor": 2
}
