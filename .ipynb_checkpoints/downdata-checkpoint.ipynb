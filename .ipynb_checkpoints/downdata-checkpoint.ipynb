{
 "cells": [
  {
   "cell_type": "code",
   "execution_count": 3,
   "metadata": {},
   "outputs": [],
   "source": [
    "import crawler as cr\n",
    "\n",
    "#download score records to database\n",
    "\n",
    "username = 'root'\n",
    "password = 'bgzwosdfz0617..'\n",
    "host = 'localhost:3306'\n",
    "dbname = 'nctta_rating_1'\n",
    "\n",
    "url = \"http://danserver.com/nctta/IndivMatches.asp?id=\"\n",
    "crawler = cr.Craweling(url,13870)\n",
    "DBC = DatabaseConnect(username, password, host, dbname)  "
   ]
  },
  {
   "cell_type": "code",
   "execution_count": null,
   "metadata": {
    "collapsed": true
   },
   "outputs": [],
   "source": [
    "DBC.write_crawler(crawlor,'score_history')"
   ]
  },
  {
   "cell_type": "code",
   "execution_count": null,
   "metadata": {
    "collapsed": true
   },
   "outputs": [],
   "source": [
    "result = DBC.read('Select * from score_history')\n",
    "player_id = np.unique(result['Loser_id'].append(result['Winner_id']))"
   ]
  },
  {
   "cell_type": "code",
   "execution_count": null,
   "metadata": {
    "collapsed": true
   },
   "outputs": [],
   "source": [
    "url1 = \"http://danserver.com/nctta/PlayerRatingHistory.aspx?PlayerId=\"\n",
    "player_c = Craweling_athlete(url1, player_id)"
   ]
  },
  {
   "cell_type": "code",
   "execution_count": null,
   "metadata": {
    "collapsed": true
   },
   "outputs": [],
   "source": [
    "url2 = \"http://danserver.com/nctta/Players.asp?id=\"\n",
    "player_r = Craweling_current_rating(url2, player_id)"
   ]
  },
  {
   "cell_type": "code",
   "execution_count": null,
   "metadata": {
    "collapsed": true
   },
   "outputs": [],
   "source": [
    "DBC.write_crawler(player_r, 'current_rating')"
   ]
  },
  {
   "cell_type": "code",
   "execution_count": 2,
   "metadata": {
    "collapsed": true
   },
   "outputs": [],
   "source": [
    "from sqlalchemy import create_engine\n",
    "import pandas as pd\n",
    "\n",
    "\n",
    "class DatabaseConnect(object):\n",
    "\n",
    "    def __init__(self, username, password, host, dbname):\n",
    "        self.DB_CON_STR = 'mysql+pymysql://' + username + ':' \\\n",
    "                          + password + '@' + host + '/' + dbname + '?charset=utf8'\n",
    "        self.engine = create_engine(self.DB_CON_STR, echo=False)\n",
    "\n",
    "    def read(self, sql):\n",
    "        return pd.read_sql(sql, con=self.engine)\n",
    "\n",
    "    def write(self, df, table):\n",
    "        if type(df) != bool:\n",
    "            df.to_sql(table, self.engine, if_exists='append')\n",
    "\n",
    "    def write_crawler(self, crawler, table):\n",
    "        if len(crawler.idrange) == 1:\n",
    "            id_list = range(1, crawler.idrange)\n",
    "        else:\n",
    "            id_list = crawler.idrange\n",
    "        for i in id_list:\n",
    "            if i % 100 == 0:\n",
    "                print(i)\n",
    "            try:\n",
    "                df = crawler.getPageItem(i)\n",
    "                self.write(df, table)\n",
    "            except Exception as e:\n",
    "                print('TypeErrror:', e)\n",
    "                print(i)"
   ]
  }
 ],
 "metadata": {
  "kernelspec": {
   "display_name": "Python 3",
   "language": "python",
   "name": "python3"
  },
  "language_info": {
   "codemirror_mode": {
    "name": "ipython",
    "version": 3
   },
   "file_extension": ".py",
   "mimetype": "text/x-python",
   "name": "python",
   "nbconvert_exporter": "python",
   "pygments_lexer": "ipython3",
   "version": "3.6.0"
  }
 },
 "nbformat": 4,
 "nbformat_minor": 2
}
