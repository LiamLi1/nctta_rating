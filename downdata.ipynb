{
 "cells": [
  {
   "cell_type": "code",
   "execution_count": 2,
   "metadata": {
    "collapsed": false
   },
   "outputs": [],
   "source": [
    "import crawler as cr\n",
    "import SQL_connect as sqlc\n",
    "\n",
    "#download score records to database\n",
    "\n",
    "username = 'root'\n",
    "password = 'bgzwosdfz0617..'\n",
    "host = 'localhost:3306'\n",
    "dbname = 'nctta_rating'\n",
    "\n",
    "url = \"http://danserver.com/nctta/IndivMatches.asp?id=\"\n",
    "crawler = cr.Craweling(url,13870)\n",
    "DBC = sqlc.DatabaseConnect(username, password, host, dbname)  "
   ]
  },
  {
   "cell_type": "code",
   "execution_count": null,
   "metadata": {
    "collapsed": true
   },
   "outputs": [],
   "source": [
    "DBC.write_crawler(crawlor,'score_history')"
   ]
  },
  {
   "cell_type": "code",
   "execution_count": null,
   "metadata": {
    "collapsed": true
   },
   "outputs": [],
   "source": [
    "result = DBC.read('Select * from score_history')\n",
    "player_id = np.unique(result['Loser_id'].append(result['Winner_id']))"
   ]
  },
  {
   "cell_type": "code",
   "execution_count": null,
   "metadata": {
    "collapsed": true
   },
   "outputs": [],
   "source": [
    "url1 = \"http://danserver.com/nctta/PlayerRatingHistory.aspx?PlayerId=\"\n",
    "player_c = Craweling_athlete(url1, player_id)"
   ]
  },
  {
   "cell_type": "code",
   "execution_count": null,
   "metadata": {
    "collapsed": true
   },
   "outputs": [],
   "source": [
    "url2 = \"http://danserver.com/nctta/Players.asp?id=\"\n",
    "player_r = Craweling_current_rating(url2, player_id)"
   ]
  },
  {
   "cell_type": "code",
   "execution_count": null,
   "metadata": {
    "collapsed": true
   },
   "outputs": [],
   "source": [
    "DBC.write_crawler(player_r, 'current_rating')"
   ]
  }
 ],
 "metadata": {
  "kernelspec": {
   "display_name": "Python 3",
   "language": "python",
   "name": "python3"
  },
  "language_info": {
   "codemirror_mode": {
    "name": "ipython",
    "version": 3
   },
   "file_extension": ".py",
   "mimetype": "text/x-python",
   "name": "python",
   "nbconvert_exporter": "python",
   "pygments_lexer": "ipython3",
   "version": "3.6.0"
  }
 },
 "nbformat": 4,
 "nbformat_minor": 2
}
